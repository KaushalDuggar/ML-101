{
 "cells": [
  {
   "cell_type": "code",
   "execution_count": 9,
   "id": "745b8cde",
   "metadata": {},
   "outputs": [
    {
     "name": "stdout",
     "output_type": "stream",
     "text": [
      "Requirement already satisfied: pykalman in d:\\anaconda\\lib\\site-packages (0.9.5)\n",
      "Note: you may need to restart the kernel to use updated packages.\n"
     ]
    },
    {
     "name": "stderr",
     "output_type": "stream",
     "text": [
      "WARNING: Ignoring invalid distribution -illow (d:\\anaconda\\lib\\site-packages)\n",
      "WARNING: Ignoring invalid distribution -illow (d:\\anaconda\\lib\\site-packages)\n",
      "WARNING: Ignoring invalid distribution -illow (d:\\anaconda\\lib\\site-packages)\n",
      "WARNING: Ignoring invalid distribution -illow (d:\\anaconda\\lib\\site-packages)\n",
      "WARNING: Ignoring invalid distribution -illow (d:\\anaconda\\lib\\site-packages)\n",
      "WARNING: Ignoring invalid distribution -illow (d:\\anaconda\\lib\\site-packages)\n"
     ]
    }
   ],
   "source": [
    "pip install pykalman\n"
   ]
  },
  {
   "cell_type": "code",
   "execution_count": 1,
   "id": "df2f9893",
   "metadata": {},
   "outputs": [],
   "source": [
    "import numpy as np\n",
    "from pykalman import KalmanFilter\n",
    "import matplotlib.pyplot as plt"
   ]
  },
  {
   "cell_type": "code",
   "execution_count": 2,
   "id": "1ff5bdbf",
   "metadata": {},
   "outputs": [],
   "source": [
    "import pandas as pd\n",
    "import numpy as np\n",
    "import matplotlib.pyplot as plt\n"
   ]
  },
  {
   "cell_type": "code",
   "execution_count": 3,
   "id": "1ca6462f",
   "metadata": {},
   "outputs": [
    {
     "data": {
      "text/html": [
       "<div>\n",
       "<style scoped>\n",
       "    .dataframe tbody tr th:only-of-type {\n",
       "        vertical-align: middle;\n",
       "    }\n",
       "\n",
       "    .dataframe tbody tr th {\n",
       "        vertical-align: top;\n",
       "    }\n",
       "\n",
       "    .dataframe thead th {\n",
       "        text-align: right;\n",
       "    }\n",
       "</style>\n",
       "<table border=\"1\" class=\"dataframe\">\n",
       "  <thead>\n",
       "    <tr style=\"text-align: right;\">\n",
       "      <th></th>\n",
       "      <th>Time</th>\n",
       "    </tr>\n",
       "    <tr>\n",
       "      <th>event</th>\n",
       "      <th></th>\n",
       "    </tr>\n",
       "  </thead>\n",
       "  <tbody>\n",
       "    <tr>\n",
       "      <th>5</th>\n",
       "      <td>0.000000</td>\n",
       "    </tr>\n",
       "    <tr>\n",
       "      <th>127</th>\n",
       "      <td>0.000978</td>\n",
       "    </tr>\n",
       "    <tr>\n",
       "      <th>248</th>\n",
       "      <td>0.002003</td>\n",
       "    </tr>\n",
       "    <tr>\n",
       "      <th>355</th>\n",
       "      <td>0.002860</td>\n",
       "    </tr>\n",
       "    <tr>\n",
       "      <th>498</th>\n",
       "      <td>0.004080</td>\n",
       "    </tr>\n",
       "    <tr>\n",
       "      <th>...</th>\n",
       "      <td>...</td>\n",
       "    </tr>\n",
       "    <tr>\n",
       "      <th>116016</th>\n",
       "      <td>1.127222</td>\n",
       "    </tr>\n",
       "    <tr>\n",
       "      <th>116095</th>\n",
       "      <td>1.127897</td>\n",
       "    </tr>\n",
       "    <tr>\n",
       "      <th>116167</th>\n",
       "      <td>1.128527</td>\n",
       "    </tr>\n",
       "    <tr>\n",
       "      <th>116224</th>\n",
       "      <td>1.129117</td>\n",
       "    </tr>\n",
       "    <tr>\n",
       "      <th>116306</th>\n",
       "      <td>1.129856</td>\n",
       "    </tr>\n",
       "  </tbody>\n",
       "</table>\n",
       "<p>646 rows × 1 columns</p>\n",
       "</div>"
      ],
      "text/plain": [
       "            Time\n",
       "event           \n",
       "5       0.000000\n",
       "127     0.000978\n",
       "248     0.002003\n",
       "355     0.002860\n",
       "498     0.004080\n",
       "...          ...\n",
       "116016  1.127222\n",
       "116095  1.127897\n",
       "116167  1.128527\n",
       "116224  1.129117\n",
       "116306  1.129856\n",
       "\n",
       "[646 rows x 1 columns]"
      ]
     },
     "execution_count": 3,
     "metadata": {},
     "output_type": "execute_result"
    }
   ],
   "source": [
    "df=pd.read_excel(\"C:\\\\Users\\\\Admin\\\\Desktop\\\\SOP data.xlsx\")\n",
    "import re\n",
    "def conve(x):\n",
    " return re.findall(r'\\d+',x)[0]\n",
    "df[\"size\"]=df['Size'].apply(conve)\n",
    "df = df.astype({'size':'int'})\n",
    "df[\"event\"]=df['Event'].apply(conve)\n",
    "df = df.astype({'event':'int'})\n",
    "df=df[['Time','event','size','Name','from']]\n",
    "df1=df.groupby('event').first()\n",
    "df=df[df['Name']=='sourcePacket']\n",
    "df2=df1[df1['from']=='src[0]']\n",
    "ts=df2[['Time']]\n",
    "ts"
   ]
  },
  {
   "cell_type": "code",
   "execution_count": 5,
   "id": "47bde2f2",
   "metadata": {},
   "outputs": [],
   "source": [
    "x_train=ts.iloc[0:516,0:].values\n",
    "y_test=ts.iloc[516:,0:].values\n"
   ]
  },
  {
   "cell_type": "code",
   "execution_count": 6,
   "id": "af59cb78",
   "metadata": {},
   "outputs": [],
   "source": [
    "kf = KalmanFilter(initial_state_mean=0, n_dim_obs=1)"
   ]
  },
  {
   "cell_type": "code",
   "execution_count": 7,
   "id": "2664efa5",
   "metadata": {},
   "outputs": [
    {
     "ename": "NameError",
     "evalue": "name 'true_values' is not defined",
     "output_type": "error",
     "traceback": [
      "\u001b[1;31m---------------------------------------------------------------------------\u001b[0m",
      "\u001b[1;31mNameError\u001b[0m                                 Traceback (most recent call last)",
      "Input \u001b[1;32mIn [7]\u001b[0m, in \u001b[0;36m<cell line: 1>\u001b[1;34m()\u001b[0m\n\u001b[1;32m----> 1\u001b[0m filtered_state_means\u001b[38;5;241m=\u001b[39m kf\u001b[38;5;241m.\u001b[39mfilter(\u001b[43mtrue_values\u001b[49m)\n\u001b[0;32m      2\u001b[0m filtered_state_means\n",
      "\u001b[1;31mNameError\u001b[0m: name 'true_values' is not defined"
     ]
    }
   ],
   "source": [
    "filtered_state_means= kf.filter(true_values)\n",
    "filtered_state_means"
   ]
  },
  {
   "cell_type": "code",
   "execution_count": 29,
   "id": "16b8d953",
   "metadata": {},
   "outputs": [
    {
     "ename": "AttributeError",
     "evalue": "'KalmanFilter' object has no attribute 'predict'",
     "output_type": "error",
     "traceback": [
      "\u001b[1;31m---------------------------------------------------------------------------\u001b[0m",
      "\u001b[1;31mAttributeError\u001b[0m                            Traceback (most recent call last)",
      "Input \u001b[1;32mIn [29]\u001b[0m, in \u001b[0;36m<cell line: 1>\u001b[1;34m()\u001b[0m\n\u001b[1;32m----> 1\u001b[0m forecasted_state_means, _ \u001b[38;5;241m=\u001b[39m \u001b[43mkf\u001b[49m\u001b[38;5;241;43m.\u001b[39;49m\u001b[43mpredict\u001b[49m()\n",
      "\u001b[1;31mAttributeError\u001b[0m: 'KalmanFilter' object has no attribute 'predict'"
     ]
    }
   ],
   "source": [
    "forecasted_state_means, _ = kf.smooth(true_values)"
   ]
  },
  {
   "cell_type": "code",
   "execution_count": null,
   "id": "4abdebef",
   "metadata": {},
   "outputs": [],
   "source": [
    "import matplotlib.pyplot as plt"
   ]
  },
  {
   "cell_type": "code",
   "execution_count": 19,
   "id": "557e8f33",
   "metadata": {},
   "outputs": [
    {
     "data": {
      "image/png": "[encoded data removed]",
      "text/plain": [
       "<Figure size 864x432 with 1 Axes>"
      ]
     },
     "metadata": {
      "needs_background": "light"
     },
     "output_type": "display_data"
    }
   ],
   "source": [
    "n_steps_forecast = 20\n",
    "plt.figure(figsize=(12, 6))\n",
    "plt.plot(true_values, label='True Values', color='blue')\n",
    "plt.plot(filtered_state_means, label='Filtered Estimates', color='green')\n",
    "plt.plot(np.arange(n_samples, n_samples + n_steps_forecast), forecasted_state_means[-n_steps_forecast:], label='Forecasted Values', color='red', linestyle='--')\n",
    "plt.xlabel('Time')\n",
    "plt.ylabel('Value')\n",
    "plt.title('Kalman Filter Time Series Forecasting')\n",
    "plt.legend()\n",
    "plt.grid(True)\n",
    "plt.show()"
   ]
  },
  {
   "cell_type": "code",
   "execution_count": 8,
   "id": "2c4f7a4f",
   "metadata": {
    "scrolled": true
   },
   "outputs": [
    {
     "data": {
      "image/png": "[encoded data removed]",
      "text/plain": [
       "<Figure size 432x288 with 1 Axes>"
      ]
     },
     "metadata": {
      "needs_background": "light"
     },
     "output_type": "display_data"
    }
   ],
   "source": [
    "plt.plot(x_train, label='x_train', color='blue')\n",
    "plt.xlabel('Events')\n",
    "plt.ylabel('Size')\n",
    "plt.savefig('C:\\\\Users\\\\Admin\\\\Desktop\\\\fig1.pdf')\n",
    "plt.show()"
   ]
  },
  {
   "cell_type": "code",
   "execution_count": 9,
   "id": "b9b5891c",
   "metadata": {},
   "outputs": [],
   "source": [
    "filtered_state_means, _ = kf.filter(x_train)"
   ]
  },
  {
   "cell_type": "code",
   "execution_count": 10,
   "id": "2cfb9606",
   "metadata": {},
   "outputs": [],
   "source": [
    "forecasted_state_means, _ = kf.smooth(x_train)"
   ]
  },
  {
   "cell_type": "code",
   "execution_count": 11,
   "id": "85a33d81",
   "metadata": {
    "scrolled": true
   },
   "outputs": [
    {
     "data": {
      "image/png": "[encoded data removed]",
      "text/plain": [
       "<Figure size 864x432 with 1 Axes>"
      ]
     },
     "metadata": {
      "needs_background": "light"
     },
     "output_type": "display_data"
    }
   ],
   "source": [
    "plt.figure(figsize=(12, 6))\n",
    "plt.plot(x_train, label='True Values', color='blue')\n",
    "plt.plot(filtered_state_means, label='Filtered Estimates', color='green')\n",
    "plt.xlabel('Events')\n",
    "plt.ylabel('Size')\n",
    "plt.legend()\n",
    "plt.title(\"Kalman Filter True vs Filtered value\")\n",
    "plt.savefig('C:\\\\Users\\\\Admin\\\\Desktop\\\\fig2.pdf')\n",
    "plt.show()"
   ]
  },
  {
   "cell_type": "code",
   "execution_count": 20,
   "id": "5abd3d51",
   "metadata": {},
   "outputs": [
    {
     "data": {
      "image/png": "[encoded data removed]",
      "text/plain": [
       "<Figure size 432x288 with 1 Axes>"
      ]
     },
     "metadata": {
      "needs_background": "light"
     },
     "output_type": "display_data"
    }
   ],
   "source": [
    "plt.plot(x_train, label='True Values', color='blue')\n",
    "plt.plot(filtered_state_means, label='Filtered Estimates', color='green')\n",
    "plt.plot(np.arange(516, 516 + n_steps_forecast), forecasted_state_means[-n_steps_forecast:], label='Forecasted Values', color='red', linestyle='--')\n",
    "plt.show()"
   ]
  },
  {
   "cell_type": "code",
   "execution_count": 12,
   "id": "b6a5faef",
   "metadata": {},
   "outputs": [
    {
     "data": {
      "image/png": "[encoded data removed]",
      "text/plain": [
       "<Figure size 432x288 with 1 Axes>"
      ]
     },
     "metadata": {
      "needs_background": "light"
     },
     "output_type": "display_data"
    }
   ],
   "source": [
    "n_steps_forecast=130\n",
    "#plt.plot(x_train, label='True Values', color='blue')\n",
    "#plt.plot(filtered_state_means, label='Filtered Estimates', color='green')\n",
    "plt.plot(y_test[0:],color='blue',label='actual test value')\n",
    "plt.plot( forecasted_state_means[-n_steps_forecast:], label='Forecasted Values', color='red', linestyle='--')\n",
    "plt.xlabel('Events')\n",
    "plt.ylabel('Size')\n",
    "plt.legend()\n",
    "plt.yticks()\n",
    "plt.title(\"forecasted values\")\n",
    "\n",
    "plt.show()\n"
   ]
  },
  {
   "cell_type": "code",
   "execution_count": 19,
   "id": "cf120921",
   "metadata": {},
   "outputs": [
    {
     "data": {
      "text/plain": [
       "(516,)"
      ]
     },
     "execution_count": 19,
     "metadata": {},
     "output_type": "execute_result"
    }
   ],
   "source": [
    "forecasted_state_means=forecasted_state_means.reshape(-1)\n",
    "y_test=y_test.reshape(-1)\n",
    "forecasted_state_means.shape"
   ]
  },
  {
   "cell_type": "code",
   "execution_count": 22,
   "id": "a62ccbe1",
   "metadata": {},
   "outputs": [
    {
     "data": {
      "text/html": [
       "<div>\n",
       "<style scoped>\n",
       "    .dataframe tbody tr th:only-of-type {\n",
       "        vertical-align: middle;\n",
       "    }\n",
       "\n",
       "    .dataframe tbody tr th {\n",
       "        vertical-align: top;\n",
       "    }\n",
       "\n",
       "    .dataframe thead th {\n",
       "        text-align: right;\n",
       "    }\n",
       "</style>\n",
       "<table border=\"1\" class=\"dataframe\">\n",
       "  <thead>\n",
       "    <tr style=\"text-align: right;\">\n",
       "      <th></th>\n",
       "      <th>actual_time</th>\n",
       "      <th>MA</th>\n",
       "    </tr>\n",
       "  </thead>\n",
       "  <tbody>\n",
       "    <tr>\n",
       "      <th>0</th>\n",
       "      <td>0.946063</td>\n",
       "      <td>0.672956</td>\n",
       "    </tr>\n",
       "    <tr>\n",
       "      <th>1</th>\n",
       "      <td>0.947657</td>\n",
       "      <td>0.675713</td>\n",
       "    </tr>\n",
       "    <tr>\n",
       "      <th>2</th>\n",
       "      <td>0.950491</td>\n",
       "      <td>0.679527</td>\n",
       "    </tr>\n",
       "    <tr>\n",
       "      <th>3</th>\n",
       "      <td>0.955711</td>\n",
       "      <td>0.687285</td>\n",
       "    </tr>\n",
       "    <tr>\n",
       "      <th>4</th>\n",
       "      <td>0.958514</td>\n",
       "      <td>0.701102</td>\n",
       "    </tr>\n",
       "    <tr>\n",
       "      <th>...</th>\n",
       "      <td>...</td>\n",
       "      <td>...</td>\n",
       "    </tr>\n",
       "    <tr>\n",
       "      <th>125</th>\n",
       "      <td>1.127222</td>\n",
       "      <td>0.940671</td>\n",
       "    </tr>\n",
       "    <tr>\n",
       "      <th>126</th>\n",
       "      <td>1.127897</td>\n",
       "      <td>0.941708</td>\n",
       "    </tr>\n",
       "    <tr>\n",
       "      <th>127</th>\n",
       "      <td>1.128527</td>\n",
       "      <td>0.942761</td>\n",
       "    </tr>\n",
       "    <tr>\n",
       "      <th>128</th>\n",
       "      <td>1.129117</td>\n",
       "      <td>0.943876</td>\n",
       "    </tr>\n",
       "    <tr>\n",
       "      <th>129</th>\n",
       "      <td>1.129856</td>\n",
       "      <td>0.944671</td>\n",
       "    </tr>\n",
       "  </tbody>\n",
       "</table>\n",
       "<p>130 rows × 2 columns</p>\n",
       "</div>"
      ],
      "text/plain": [
       "     actual_time        MA\n",
       "0       0.946063  0.672956\n",
       "1       0.947657  0.675713\n",
       "2       0.950491  0.679527\n",
       "3       0.955711  0.687285\n",
       "4       0.958514  0.701102\n",
       "..           ...       ...\n",
       "125     1.127222  0.940671\n",
       "126     1.127897  0.941708\n",
       "127     1.128527  0.942761\n",
       "128     1.129117  0.943876\n",
       "129     1.129856  0.944671\n",
       "\n",
       "[130 rows x 2 columns]"
      ]
     },
     "execution_count": 22,
     "metadata": {},
     "output_type": "execute_result"
    }
   ],
   "source": [
    "df = pd.DataFrame({'actual_time':y_test , 'MA':forecasted_state_means[-n_steps_forecast:] })\n",
    "df"
   ]
  },
  {
   "cell_type": "code",
   "execution_count": 26,
   "id": "0a9b9f18",
   "metadata": {},
   "outputs": [
    {
     "data": {
      "text/plain": [
       "0.1988062997683068"
      ]
     },
     "execution_count": 26,
     "metadata": {},
     "output_type": "execute_result"
    }
   ],
   "source": [
    "df['theta']=df['actual_time']-df['MA']\n",
    "df['theta'].mean()"
   ]
  },
  {
   "cell_type": "code",
   "execution_count": 27,
   "id": "38fc4572",
   "metadata": {},
   "outputs": [
    {
     "data": {
      "text/html": [
       "<div>\n",
       "<style scoped>\n",
       "    .dataframe tbody tr th:only-of-type {\n",
       "        vertical-align: middle;\n",
       "    }\n",
       "\n",
       "    .dataframe tbody tr th {\n",
       "        vertical-align: top;\n",
       "    }\n",
       "\n",
       "    .dataframe thead th {\n",
       "        text-align: right;\n",
       "    }\n",
       "</style>\n",
       "<table border=\"1\" class=\"dataframe\">\n",
       "  <thead>\n",
       "    <tr style=\"text-align: right;\">\n",
       "      <th></th>\n",
       "      <th>actual_time</th>\n",
       "      <th>MA</th>\n",
       "      <th>theta</th>\n",
       "      <th>Changed</th>\n",
       "    </tr>\n",
       "  </thead>\n",
       "  <tbody>\n",
       "    <tr>\n",
       "      <th>0</th>\n",
       "      <td>0.946063</td>\n",
       "      <td>0.672956</td>\n",
       "      <td>0.273106</td>\n",
       "      <td>0.871763</td>\n",
       "    </tr>\n",
       "    <tr>\n",
       "      <th>1</th>\n",
       "      <td>0.947657</td>\n",
       "      <td>0.675713</td>\n",
       "      <td>0.271944</td>\n",
       "      <td>0.874519</td>\n",
       "    </tr>\n",
       "    <tr>\n",
       "      <th>2</th>\n",
       "      <td>0.950491</td>\n",
       "      <td>0.679527</td>\n",
       "      <td>0.270964</td>\n",
       "      <td>0.878333</td>\n",
       "    </tr>\n",
       "    <tr>\n",
       "      <th>3</th>\n",
       "      <td>0.955711</td>\n",
       "      <td>0.687285</td>\n",
       "      <td>0.268427</td>\n",
       "      <td>0.886091</td>\n",
       "    </tr>\n",
       "    <tr>\n",
       "      <th>4</th>\n",
       "      <td>0.958514</td>\n",
       "      <td>0.701102</td>\n",
       "      <td>0.257412</td>\n",
       "      <td>0.899908</td>\n",
       "    </tr>\n",
       "    <tr>\n",
       "      <th>...</th>\n",
       "      <td>...</td>\n",
       "      <td>...</td>\n",
       "      <td>...</td>\n",
       "      <td>...</td>\n",
       "    </tr>\n",
       "    <tr>\n",
       "      <th>125</th>\n",
       "      <td>1.127222</td>\n",
       "      <td>0.940671</td>\n",
       "      <td>0.186551</td>\n",
       "      <td>1.139478</td>\n",
       "    </tr>\n",
       "    <tr>\n",
       "      <th>126</th>\n",
       "      <td>1.127897</td>\n",
       "      <td>0.941708</td>\n",
       "      <td>0.186188</td>\n",
       "      <td>1.140515</td>\n",
       "    </tr>\n",
       "    <tr>\n",
       "      <th>127</th>\n",
       "      <td>1.128527</td>\n",
       "      <td>0.942761</td>\n",
       "      <td>0.185766</td>\n",
       "      <td>1.141567</td>\n",
       "    </tr>\n",
       "    <tr>\n",
       "      <th>128</th>\n",
       "      <td>1.129117</td>\n",
       "      <td>0.943876</td>\n",
       "      <td>0.185241</td>\n",
       "      <td>1.142682</td>\n",
       "    </tr>\n",
       "    <tr>\n",
       "      <th>129</th>\n",
       "      <td>1.129856</td>\n",
       "      <td>0.944671</td>\n",
       "      <td>0.185186</td>\n",
       "      <td>1.143477</td>\n",
       "    </tr>\n",
       "  </tbody>\n",
       "</table>\n",
       "<p>130 rows × 4 columns</p>\n",
       "</div>"
      ],
      "text/plain": [
       "     actual_time        MA     theta   Changed\n",
       "0       0.946063  0.672956  0.273106  0.871763\n",
       "1       0.947657  0.675713  0.271944  0.874519\n",
       "2       0.950491  0.679527  0.270964  0.878333\n",
       "3       0.955711  0.687285  0.268427  0.886091\n",
       "4       0.958514  0.701102  0.257412  0.899908\n",
       "..           ...       ...       ...       ...\n",
       "125     1.127222  0.940671  0.186551  1.139478\n",
       "126     1.127897  0.941708  0.186188  1.140515\n",
       "127     1.128527  0.942761  0.185766  1.141567\n",
       "128     1.129117  0.943876  0.185241  1.142682\n",
       "129     1.129856  0.944671  0.185186  1.143477\n",
       "\n",
       "[130 rows x 4 columns]"
      ]
     },
     "execution_count": 27,
     "metadata": {},
     "output_type": "execute_result"
    }
   ],
   "source": [
    "df['Changed']=df['MA']+0.1988062997683068\n",
    "df"
   ]
  },
  {
   "cell_type": "code",
   "execution_count": 28,
   "id": "eed83605",
   "metadata": {},
   "outputs": [
    {
     "data": {
      "text/plain": [
       "0.9027464151814728"
      ]
     },
     "execution_count": 28,
     "metadata": {},
     "output_type": "execute_result"
    }
   ],
   "source": [
    "from sklearn.metrics import r2_score\n",
    "r2=r2_score(df['actual_time'],df['Changed'])\n",
    "r2"
   ]
  }
 ],
 "metadata": {
  "kernelspec": {
   "display_name": "Python 3 (ipykernel)",
   "language": "python",
   "name": "python3"
  },
  "language_info": {
   "codemirror_mode": {
    "name": "ipython",
    "version": 3
   },
   "file_extension": ".py",
   "mimetype": "text/x-python",
   "name": "python",
   "nbconvert_exporter": "python",
   "pygments_lexer": "ipython3",
   "version": "3.9.12"
  }
 },
 "nbformat": 4,
 "nbformat_minor": 5
}
